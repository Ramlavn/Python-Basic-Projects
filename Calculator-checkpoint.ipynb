{
 "cells": [
  {
   "cell_type": "markdown",
   "id": "80197d5b",
   "metadata": {},
   "source": [
    "# Calculator using elif"
   ]
  },
  {
   "cell_type": "code",
   "execution_count": 1,
   "id": "9a0e7d97",
   "metadata": {},
   "outputs": [
    {
     "name": "stdout",
     "output_type": "stream",
     "text": [
      "A:10\n",
      "B:20\n",
      "add/sub/div/multi:add\n",
      "30\n"
     ]
    }
   ],
   "source": [
    "a = int(input(\"A:\"))\n",
    "b = int(input('B:'))\n",
    "c = input(\"add/sub/div/multi:\")\n",
    "if c == \"sub\":\n",
    "    print(a-b)\n",
    "elif c == 'add':\n",
    "    print(a+b)\n",
    "elif c == 'multi':\n",
    "    print(a*b)\n",
    "elif c == 'div':\n",
    "    print(a/b)\n",
    "else:\n",
    "    print(\"None\")"
   ]
  },
  {
   "cell_type": "markdown",
   "id": "e0929761",
   "metadata": {},
   "source": [
    "# Calculator using def"
   ]
  },
  {
   "cell_type": "code",
   "execution_count": 5,
   "id": "5c024297",
   "metadata": {},
   "outputs": [
    {
     "name": "stdout",
     "output_type": "stream",
     "text": [
      "A:1\n",
      "B:2\n",
      "Add/Sub/Div/Multi: Add\n",
      "3\n"
     ]
    }
   ],
   "source": [
    "def calculator():\n",
    "    c = float(int(input('A:')))\n",
    "    d = float(int(input('B:')))\n",
    "    e = input(\"Add/Sub/Div/Multi: \")\n",
    "    \n",
    "    if e == \"Add\":\n",
    "        print(a+b)\n",
    "    elif e == \"Sub\":\n",
    "        print(a-b)\n",
    "    elif e == \"Div\":\n",
    "        print(a/b)\n",
    "    elif e == \"Multi\":\n",
    "        print(a*b)\n",
    "    else:\n",
    "        print(\"Enter the correct operation \")\n",
    "calculator()\n",
    "    \n",
    "      "
   ]
  },
  {
   "cell_type": "markdown",
   "id": "79741e34",
   "metadata": {},
   "source": [
    "# Calculator using Lambda Function"
   ]
  },
  {
   "cell_type": "code",
   "execution_count": 6,
   "id": "b554aada",
   "metadata": {
    "scrolled": true
   },
   "outputs": [
    {
     "name": "stdout",
     "output_type": "stream",
     "text": [
      "A:2\n",
      "B:4\n",
      "add/sub/multi/div: div\n",
      "0.5\n"
     ]
    }
   ],
   "source": [
    "a = int(input('A:'))\n",
    "b = int(input('B:'))\n",
    "c =input(\"add/sub/multi/div: \")\n",
    "if c == 'add':\n",
    "    f = lambda a,b:a+b\n",
    "    print(f(a,b))\n",
    "elif c == 'sub':\n",
    "    f = lambda a,b:a-b\n",
    "    print(f(a,b))\n",
    "elif c == 'multi':\n",
    "    f = lambda a,b:a*b\n",
    "    print(f(a,b))\n",
    "elif c == 'div':\n",
    "    f = lambda a,b:a/b\n",
    "    print(f(a,b))\n",
    "else: \n",
    "    print(\"None\")\n"
   ]
  },
  {
   "cell_type": "code",
   "execution_count": null,
   "id": "be516825",
   "metadata": {},
   "outputs": [],
   "source": []
  }
 ],
 "metadata": {
  "kernelspec": {
   "display_name": "Python 3 (ipykernel)",
   "language": "python",
   "name": "python3"
  },
  "language_info": {
   "codemirror_mode": {
    "name": "ipython",
    "version": 3
   },
   "file_extension": ".py",
   "mimetype": "text/x-python",
   "name": "python",
   "nbconvert_exporter": "python",
   "pygments_lexer": "ipython3",
   "version": "3.11.5"
  }
 },
 "nbformat": 4,
 "nbformat_minor": 5
}
